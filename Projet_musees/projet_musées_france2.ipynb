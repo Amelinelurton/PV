{
 "cells": [
  {
   "cell_type": "code",
   "execution_count": 3,
   "id": "140ba4f7",
   "metadata": {},
   "outputs": [],
   "source": [
    "import pandas as pd"
   ]
  },
  {
   "cell_type": "code",
   "execution_count": 7,
   "id": "bcd57482",
   "metadata": {
    "scrolled": true
   },
   "outputs": [
    {
     "ename": "FileNotFoundError",
     "evalue": "[Errno 2] No such file or directory: 'liste-des-musees-de-france-2021.csv'",
     "output_type": "error",
     "traceback": [
      "\u001b[0;31m---------------------------------------------------------------------------\u001b[0m",
      "\u001b[0;31mFileNotFoundError\u001b[0m                         Traceback (most recent call last)",
      "Input \u001b[0;32mIn [7]\u001b[0m, in \u001b[0;36m<cell line: 1>\u001b[0;34m()\u001b[0m\n\u001b[0;32m----> 1\u001b[0m Musées_france \u001b[38;5;241m=\u001b[39m \u001b[43mpd\u001b[49m\u001b[38;5;241;43m.\u001b[39;49m\u001b[43mread_csv\u001b[49m\u001b[43m(\u001b[49m\u001b[38;5;124;43m'\u001b[39;49m\u001b[38;5;124;43mliste-des-musees-de-france-2021.csv\u001b[39;49m\u001b[38;5;124;43m'\u001b[39;49m\u001b[43m,\u001b[49m\u001b[43mencoding\u001b[49m\u001b[38;5;241;43m=\u001b[39;49m\u001b[38;5;124;43m'\u001b[39;49m\u001b[38;5;124;43mlatin-1\u001b[39;49m\u001b[38;5;124;43m'\u001b[39;49m\u001b[43m,\u001b[49m\u001b[43msep\u001b[49m\u001b[38;5;241;43m=\u001b[39;49m\u001b[38;5;124;43m\"\u001b[39;49m\u001b[38;5;124;43m;\u001b[39;49m\u001b[38;5;124;43m\"\u001b[39;49m\u001b[43m)\u001b[49m\n",
      "File \u001b[0;32m~/opt/anaconda3/lib/python3.9/site-packages/pandas/util/_decorators.py:311\u001b[0m, in \u001b[0;36mdeprecate_nonkeyword_arguments.<locals>.decorate.<locals>.wrapper\u001b[0;34m(*args, **kwargs)\u001b[0m\n\u001b[1;32m    305\u001b[0m \u001b[38;5;28;01mif\u001b[39;00m \u001b[38;5;28mlen\u001b[39m(args) \u001b[38;5;241m>\u001b[39m num_allow_args:\n\u001b[1;32m    306\u001b[0m     warnings\u001b[38;5;241m.\u001b[39mwarn(\n\u001b[1;32m    307\u001b[0m         msg\u001b[38;5;241m.\u001b[39mformat(arguments\u001b[38;5;241m=\u001b[39marguments),\n\u001b[1;32m    308\u001b[0m         \u001b[38;5;167;01mFutureWarning\u001b[39;00m,\n\u001b[1;32m    309\u001b[0m         stacklevel\u001b[38;5;241m=\u001b[39mstacklevel,\n\u001b[1;32m    310\u001b[0m     )\n\u001b[0;32m--> 311\u001b[0m \u001b[38;5;28;01mreturn\u001b[39;00m \u001b[43mfunc\u001b[49m\u001b[43m(\u001b[49m\u001b[38;5;241;43m*\u001b[39;49m\u001b[43margs\u001b[49m\u001b[43m,\u001b[49m\u001b[43m \u001b[49m\u001b[38;5;241;43m*\u001b[39;49m\u001b[38;5;241;43m*\u001b[39;49m\u001b[43mkwargs\u001b[49m\u001b[43m)\u001b[49m\n",
      "File \u001b[0;32m~/opt/anaconda3/lib/python3.9/site-packages/pandas/io/parsers/readers.py:680\u001b[0m, in \u001b[0;36mread_csv\u001b[0;34m(filepath_or_buffer, sep, delimiter, header, names, index_col, usecols, squeeze, prefix, mangle_dupe_cols, dtype, engine, converters, true_values, false_values, skipinitialspace, skiprows, skipfooter, nrows, na_values, keep_default_na, na_filter, verbose, skip_blank_lines, parse_dates, infer_datetime_format, keep_date_col, date_parser, dayfirst, cache_dates, iterator, chunksize, compression, thousands, decimal, lineterminator, quotechar, quoting, doublequote, escapechar, comment, encoding, encoding_errors, dialect, error_bad_lines, warn_bad_lines, on_bad_lines, delim_whitespace, low_memory, memory_map, float_precision, storage_options)\u001b[0m\n\u001b[1;32m    665\u001b[0m kwds_defaults \u001b[38;5;241m=\u001b[39m _refine_defaults_read(\n\u001b[1;32m    666\u001b[0m     dialect,\n\u001b[1;32m    667\u001b[0m     delimiter,\n\u001b[0;32m   (...)\u001b[0m\n\u001b[1;32m    676\u001b[0m     defaults\u001b[38;5;241m=\u001b[39m{\u001b[38;5;124m\"\u001b[39m\u001b[38;5;124mdelimiter\u001b[39m\u001b[38;5;124m\"\u001b[39m: \u001b[38;5;124m\"\u001b[39m\u001b[38;5;124m,\u001b[39m\u001b[38;5;124m\"\u001b[39m},\n\u001b[1;32m    677\u001b[0m )\n\u001b[1;32m    678\u001b[0m kwds\u001b[38;5;241m.\u001b[39mupdate(kwds_defaults)\n\u001b[0;32m--> 680\u001b[0m \u001b[38;5;28;01mreturn\u001b[39;00m \u001b[43m_read\u001b[49m\u001b[43m(\u001b[49m\u001b[43mfilepath_or_buffer\u001b[49m\u001b[43m,\u001b[49m\u001b[43m \u001b[49m\u001b[43mkwds\u001b[49m\u001b[43m)\u001b[49m\n",
      "File \u001b[0;32m~/opt/anaconda3/lib/python3.9/site-packages/pandas/io/parsers/readers.py:575\u001b[0m, in \u001b[0;36m_read\u001b[0;34m(filepath_or_buffer, kwds)\u001b[0m\n\u001b[1;32m    572\u001b[0m _validate_names(kwds\u001b[38;5;241m.\u001b[39mget(\u001b[38;5;124m\"\u001b[39m\u001b[38;5;124mnames\u001b[39m\u001b[38;5;124m\"\u001b[39m, \u001b[38;5;28;01mNone\u001b[39;00m))\n\u001b[1;32m    574\u001b[0m \u001b[38;5;66;03m# Create the parser.\u001b[39;00m\n\u001b[0;32m--> 575\u001b[0m parser \u001b[38;5;241m=\u001b[39m \u001b[43mTextFileReader\u001b[49m\u001b[43m(\u001b[49m\u001b[43mfilepath_or_buffer\u001b[49m\u001b[43m,\u001b[49m\u001b[43m \u001b[49m\u001b[38;5;241;43m*\u001b[39;49m\u001b[38;5;241;43m*\u001b[39;49m\u001b[43mkwds\u001b[49m\u001b[43m)\u001b[49m\n\u001b[1;32m    577\u001b[0m \u001b[38;5;28;01mif\u001b[39;00m chunksize \u001b[38;5;129;01mor\u001b[39;00m iterator:\n\u001b[1;32m    578\u001b[0m     \u001b[38;5;28;01mreturn\u001b[39;00m parser\n",
      "File \u001b[0;32m~/opt/anaconda3/lib/python3.9/site-packages/pandas/io/parsers/readers.py:933\u001b[0m, in \u001b[0;36mTextFileReader.__init__\u001b[0;34m(self, f, engine, **kwds)\u001b[0m\n\u001b[1;32m    930\u001b[0m     \u001b[38;5;28mself\u001b[39m\u001b[38;5;241m.\u001b[39moptions[\u001b[38;5;124m\"\u001b[39m\u001b[38;5;124mhas_index_names\u001b[39m\u001b[38;5;124m\"\u001b[39m] \u001b[38;5;241m=\u001b[39m kwds[\u001b[38;5;124m\"\u001b[39m\u001b[38;5;124mhas_index_names\u001b[39m\u001b[38;5;124m\"\u001b[39m]\n\u001b[1;32m    932\u001b[0m \u001b[38;5;28mself\u001b[39m\u001b[38;5;241m.\u001b[39mhandles: IOHandles \u001b[38;5;241m|\u001b[39m \u001b[38;5;28;01mNone\u001b[39;00m \u001b[38;5;241m=\u001b[39m \u001b[38;5;28;01mNone\u001b[39;00m\n\u001b[0;32m--> 933\u001b[0m \u001b[38;5;28mself\u001b[39m\u001b[38;5;241m.\u001b[39m_engine \u001b[38;5;241m=\u001b[39m \u001b[38;5;28;43mself\u001b[39;49m\u001b[38;5;241;43m.\u001b[39;49m\u001b[43m_make_engine\u001b[49m\u001b[43m(\u001b[49m\u001b[43mf\u001b[49m\u001b[43m,\u001b[49m\u001b[43m \u001b[49m\u001b[38;5;28;43mself\u001b[39;49m\u001b[38;5;241;43m.\u001b[39;49m\u001b[43mengine\u001b[49m\u001b[43m)\u001b[49m\n",
      "File \u001b[0;32m~/opt/anaconda3/lib/python3.9/site-packages/pandas/io/parsers/readers.py:1217\u001b[0m, in \u001b[0;36mTextFileReader._make_engine\u001b[0;34m(self, f, engine)\u001b[0m\n\u001b[1;32m   1213\u001b[0m     mode \u001b[38;5;241m=\u001b[39m \u001b[38;5;124m\"\u001b[39m\u001b[38;5;124mrb\u001b[39m\u001b[38;5;124m\"\u001b[39m\n\u001b[1;32m   1214\u001b[0m \u001b[38;5;66;03m# error: No overload variant of \"get_handle\" matches argument types\u001b[39;00m\n\u001b[1;32m   1215\u001b[0m \u001b[38;5;66;03m# \"Union[str, PathLike[str], ReadCsvBuffer[bytes], ReadCsvBuffer[str]]\"\u001b[39;00m\n\u001b[1;32m   1216\u001b[0m \u001b[38;5;66;03m# , \"str\", \"bool\", \"Any\", \"Any\", \"Any\", \"Any\", \"Any\"\u001b[39;00m\n\u001b[0;32m-> 1217\u001b[0m \u001b[38;5;28mself\u001b[39m\u001b[38;5;241m.\u001b[39mhandles \u001b[38;5;241m=\u001b[39m \u001b[43mget_handle\u001b[49m\u001b[43m(\u001b[49m\u001b[43m  \u001b[49m\u001b[38;5;66;43;03m# type: ignore[call-overload]\u001b[39;49;00m\n\u001b[1;32m   1218\u001b[0m \u001b[43m    \u001b[49m\u001b[43mf\u001b[49m\u001b[43m,\u001b[49m\n\u001b[1;32m   1219\u001b[0m \u001b[43m    \u001b[49m\u001b[43mmode\u001b[49m\u001b[43m,\u001b[49m\n\u001b[1;32m   1220\u001b[0m \u001b[43m    \u001b[49m\u001b[43mencoding\u001b[49m\u001b[38;5;241;43m=\u001b[39;49m\u001b[38;5;28;43mself\u001b[39;49m\u001b[38;5;241;43m.\u001b[39;49m\u001b[43moptions\u001b[49m\u001b[38;5;241;43m.\u001b[39;49m\u001b[43mget\u001b[49m\u001b[43m(\u001b[49m\u001b[38;5;124;43m\"\u001b[39;49m\u001b[38;5;124;43mencoding\u001b[39;49m\u001b[38;5;124;43m\"\u001b[39;49m\u001b[43m,\u001b[49m\u001b[43m \u001b[49m\u001b[38;5;28;43;01mNone\u001b[39;49;00m\u001b[43m)\u001b[49m\u001b[43m,\u001b[49m\n\u001b[1;32m   1221\u001b[0m \u001b[43m    \u001b[49m\u001b[43mcompression\u001b[49m\u001b[38;5;241;43m=\u001b[39;49m\u001b[38;5;28;43mself\u001b[39;49m\u001b[38;5;241;43m.\u001b[39;49m\u001b[43moptions\u001b[49m\u001b[38;5;241;43m.\u001b[39;49m\u001b[43mget\u001b[49m\u001b[43m(\u001b[49m\u001b[38;5;124;43m\"\u001b[39;49m\u001b[38;5;124;43mcompression\u001b[39;49m\u001b[38;5;124;43m\"\u001b[39;49m\u001b[43m,\u001b[49m\u001b[43m \u001b[49m\u001b[38;5;28;43;01mNone\u001b[39;49;00m\u001b[43m)\u001b[49m\u001b[43m,\u001b[49m\n\u001b[1;32m   1222\u001b[0m \u001b[43m    \u001b[49m\u001b[43mmemory_map\u001b[49m\u001b[38;5;241;43m=\u001b[39;49m\u001b[38;5;28;43mself\u001b[39;49m\u001b[38;5;241;43m.\u001b[39;49m\u001b[43moptions\u001b[49m\u001b[38;5;241;43m.\u001b[39;49m\u001b[43mget\u001b[49m\u001b[43m(\u001b[49m\u001b[38;5;124;43m\"\u001b[39;49m\u001b[38;5;124;43mmemory_map\u001b[39;49m\u001b[38;5;124;43m\"\u001b[39;49m\u001b[43m,\u001b[49m\u001b[43m \u001b[49m\u001b[38;5;28;43;01mFalse\u001b[39;49;00m\u001b[43m)\u001b[49m\u001b[43m,\u001b[49m\n\u001b[1;32m   1223\u001b[0m \u001b[43m    \u001b[49m\u001b[43mis_text\u001b[49m\u001b[38;5;241;43m=\u001b[39;49m\u001b[43mis_text\u001b[49m\u001b[43m,\u001b[49m\n\u001b[1;32m   1224\u001b[0m \u001b[43m    \u001b[49m\u001b[43merrors\u001b[49m\u001b[38;5;241;43m=\u001b[39;49m\u001b[38;5;28;43mself\u001b[39;49m\u001b[38;5;241;43m.\u001b[39;49m\u001b[43moptions\u001b[49m\u001b[38;5;241;43m.\u001b[39;49m\u001b[43mget\u001b[49m\u001b[43m(\u001b[49m\u001b[38;5;124;43m\"\u001b[39;49m\u001b[38;5;124;43mencoding_errors\u001b[39;49m\u001b[38;5;124;43m\"\u001b[39;49m\u001b[43m,\u001b[49m\u001b[43m \u001b[49m\u001b[38;5;124;43m\"\u001b[39;49m\u001b[38;5;124;43mstrict\u001b[39;49m\u001b[38;5;124;43m\"\u001b[39;49m\u001b[43m)\u001b[49m\u001b[43m,\u001b[49m\n\u001b[1;32m   1225\u001b[0m \u001b[43m    \u001b[49m\u001b[43mstorage_options\u001b[49m\u001b[38;5;241;43m=\u001b[39;49m\u001b[38;5;28;43mself\u001b[39;49m\u001b[38;5;241;43m.\u001b[39;49m\u001b[43moptions\u001b[49m\u001b[38;5;241;43m.\u001b[39;49m\u001b[43mget\u001b[49m\u001b[43m(\u001b[49m\u001b[38;5;124;43m\"\u001b[39;49m\u001b[38;5;124;43mstorage_options\u001b[39;49m\u001b[38;5;124;43m\"\u001b[39;49m\u001b[43m,\u001b[49m\u001b[43m \u001b[49m\u001b[38;5;28;43;01mNone\u001b[39;49;00m\u001b[43m)\u001b[49m\u001b[43m,\u001b[49m\n\u001b[1;32m   1226\u001b[0m \u001b[43m\u001b[49m\u001b[43m)\u001b[49m\n\u001b[1;32m   1227\u001b[0m \u001b[38;5;28;01massert\u001b[39;00m \u001b[38;5;28mself\u001b[39m\u001b[38;5;241m.\u001b[39mhandles \u001b[38;5;129;01mis\u001b[39;00m \u001b[38;5;129;01mnot\u001b[39;00m \u001b[38;5;28;01mNone\u001b[39;00m\n\u001b[1;32m   1228\u001b[0m f \u001b[38;5;241m=\u001b[39m \u001b[38;5;28mself\u001b[39m\u001b[38;5;241m.\u001b[39mhandles\u001b[38;5;241m.\u001b[39mhandle\n",
      "File \u001b[0;32m~/opt/anaconda3/lib/python3.9/site-packages/pandas/io/common.py:789\u001b[0m, in \u001b[0;36mget_handle\u001b[0;34m(path_or_buf, mode, encoding, compression, memory_map, is_text, errors, storage_options)\u001b[0m\n\u001b[1;32m    784\u001b[0m \u001b[38;5;28;01melif\u001b[39;00m \u001b[38;5;28misinstance\u001b[39m(handle, \u001b[38;5;28mstr\u001b[39m):\n\u001b[1;32m    785\u001b[0m     \u001b[38;5;66;03m# Check whether the filename is to be opened in binary mode.\u001b[39;00m\n\u001b[1;32m    786\u001b[0m     \u001b[38;5;66;03m# Binary mode does not support 'encoding' and 'newline'.\u001b[39;00m\n\u001b[1;32m    787\u001b[0m     \u001b[38;5;28;01mif\u001b[39;00m ioargs\u001b[38;5;241m.\u001b[39mencoding \u001b[38;5;129;01mand\u001b[39;00m \u001b[38;5;124m\"\u001b[39m\u001b[38;5;124mb\u001b[39m\u001b[38;5;124m\"\u001b[39m \u001b[38;5;129;01mnot\u001b[39;00m \u001b[38;5;129;01min\u001b[39;00m ioargs\u001b[38;5;241m.\u001b[39mmode:\n\u001b[1;32m    788\u001b[0m         \u001b[38;5;66;03m# Encoding\u001b[39;00m\n\u001b[0;32m--> 789\u001b[0m         handle \u001b[38;5;241m=\u001b[39m \u001b[38;5;28;43mopen\u001b[39;49m\u001b[43m(\u001b[49m\n\u001b[1;32m    790\u001b[0m \u001b[43m            \u001b[49m\u001b[43mhandle\u001b[49m\u001b[43m,\u001b[49m\n\u001b[1;32m    791\u001b[0m \u001b[43m            \u001b[49m\u001b[43mioargs\u001b[49m\u001b[38;5;241;43m.\u001b[39;49m\u001b[43mmode\u001b[49m\u001b[43m,\u001b[49m\n\u001b[1;32m    792\u001b[0m \u001b[43m            \u001b[49m\u001b[43mencoding\u001b[49m\u001b[38;5;241;43m=\u001b[39;49m\u001b[43mioargs\u001b[49m\u001b[38;5;241;43m.\u001b[39;49m\u001b[43mencoding\u001b[49m\u001b[43m,\u001b[49m\n\u001b[1;32m    793\u001b[0m \u001b[43m            \u001b[49m\u001b[43merrors\u001b[49m\u001b[38;5;241;43m=\u001b[39;49m\u001b[43merrors\u001b[49m\u001b[43m,\u001b[49m\n\u001b[1;32m    794\u001b[0m \u001b[43m            \u001b[49m\u001b[43mnewline\u001b[49m\u001b[38;5;241;43m=\u001b[39;49m\u001b[38;5;124;43m\"\u001b[39;49m\u001b[38;5;124;43m\"\u001b[39;49m\u001b[43m,\u001b[49m\n\u001b[1;32m    795\u001b[0m \u001b[43m        \u001b[49m\u001b[43m)\u001b[49m\n\u001b[1;32m    796\u001b[0m     \u001b[38;5;28;01melse\u001b[39;00m:\n\u001b[1;32m    797\u001b[0m         \u001b[38;5;66;03m# Binary mode\u001b[39;00m\n\u001b[1;32m    798\u001b[0m         handle \u001b[38;5;241m=\u001b[39m \u001b[38;5;28mopen\u001b[39m(handle, ioargs\u001b[38;5;241m.\u001b[39mmode)\n",
      "\u001b[0;31mFileNotFoundError\u001b[0m: [Errno 2] No such file or directory: 'liste-des-musees-de-france-2021.csv'"
     ]
    }
   ],
   "source": [
    "Musées_france = pd.read_csv('liste-des-musees-de-france-2021.csv',encoding='latin-1',sep=\";\")"
   ]
  },
  {
   "cell_type": "code",
   "execution_count": 5,
   "id": "554dfa8e",
   "metadata": {},
   "outputs": [
    {
     "ename": "NameError",
     "evalue": "name 'Musées_france' is not defined",
     "output_type": "error",
     "traceback": [
      "\u001b[0;31m---------------------------------------------------------------------------\u001b[0m",
      "\u001b[0;31mNameError\u001b[0m                                 Traceback (most recent call last)",
      "Input \u001b[0;32mIn [5]\u001b[0m, in \u001b[0;36m<cell line: 1>\u001b[0;34m()\u001b[0m\n\u001b[0;32m----> 1\u001b[0m \u001b[43mMusées_france\u001b[49m\u001b[38;5;241m.\u001b[39mhead()\n",
      "\u001b[0;31mNameError\u001b[0m: name 'Musées_france' is not defined"
     ]
    }
   ],
   "source": [
    "Musées_france.head()"
   ]
  },
  {
   "cell_type": "code",
   "execution_count": 38,
   "id": "9201d181",
   "metadata": {},
   "outputs": [
    {
     "data": {
      "text/html": [
       "<div>\n",
       "<style scoped>\n",
       "    .dataframe tbody tr th:only-of-type {\n",
       "        vertical-align: middle;\n",
       "    }\n",
       "\n",
       "    .dataframe tbody tr th {\n",
       "        vertical-align: top;\n",
       "    }\n",
       "\n",
       "    .dataframe thead th {\n",
       "        text-align: right;\n",
       "    }\n",
       "</style>\n",
       "<table border=\"1\" class=\"dataframe\">\n",
       "  <thead>\n",
       "    <tr style=\"text-align: right;\">\n",
       "      <th></th>\n",
       "      <th>osm_id</th>\n",
       "      <th>name</th>\n",
       "      <th>number</th>\n",
       "      <th>street</th>\n",
       "      <th>postal_code</th>\n",
       "      <th>city</th>\n",
       "      <th>country</th>\n",
       "      <th>country_code</th>\n",
       "      <th>lat</th>\n",
       "      <th>lon</th>\n",
       "      <th>website</th>\n",
       "      <th>email</th>\n",
       "      <th>phone</th>\n",
       "      <th>fax</th>\n",
       "      <th>tags</th>\n",
       "      <th>description</th>\n",
       "      <th>date_added</th>\n",
       "      <th>wikidata</th>\n",
       "    </tr>\n",
       "  </thead>\n",
       "  <tbody>\n",
       "    <tr>\n",
       "      <th>3779</th>\n",
       "      <td>1348524503</td>\n",
       "      <td>Vivarium du Moulin</td>\n",
       "      <td>NaN</td>\n",
       "      <td>Rue Principale</td>\n",
       "      <td>68610.0</td>\n",
       "      <td>Thann-Guebwiller</td>\n",
       "      <td>France</td>\n",
       "      <td>fr</td>\n",
       "      <td>47.942258</td>\n",
       "      <td>7.149613</td>\n",
       "      <td>NaN</td>\n",
       "      <td>NaN</td>\n",
       "      <td>NaN</td>\n",
       "      <td>NaN</td>\n",
       "      <td>osm:museum</td>\n",
       "      <td>NaN</td>\n",
       "      <td>40747,8717476852</td>\n",
       "      <td>NaN</td>\n",
       "    </tr>\n",
       "    <tr>\n",
       "      <th>3780</th>\n",
       "      <td>577287841</td>\n",
       "      <td>Voyage au Temps des impressionnistes</td>\n",
       "      <td>NaN</td>\n",
       "      <td>Rue de Léry</td>\n",
       "      <td>95430.0</td>\n",
       "      <td>Auvers-sur-Oise</td>\n",
       "      <td>France</td>\n",
       "      <td>fr</td>\n",
       "      <td>49.072057</td>\n",
       "      <td>2.166167</td>\n",
       "      <td>NaN</td>\n",
       "      <td>NaN</td>\n",
       "      <td>NaN</td>\n",
       "      <td>NaN</td>\n",
       "      <td>osm:museum</td>\n",
       "      <td>NaN</td>\n",
       "      <td>41141,7272222222</td>\n",
       "      <td>NaN</td>\n",
       "    </tr>\n",
       "    <tr>\n",
       "      <th>3781</th>\n",
       "      <td>145062184</td>\n",
       "      <td>Wines and Spirits Museum</td>\n",
       "      <td>NaN</td>\n",
       "      <td>Corniche Bonaparte</td>\n",
       "      <td>83150.0</td>\n",
       "      <td>Bandol</td>\n",
       "      <td>France</td>\n",
       "      <td>fr</td>\n",
       "      <td>43.128031</td>\n",
       "      <td>5.749484</td>\n",
       "      <td>NaN</td>\n",
       "      <td>NaN</td>\n",
       "      <td>NaN</td>\n",
       "      <td>NaN</td>\n",
       "      <td>osm:museum</td>\n",
       "      <td>NaN</td>\n",
       "      <td>42367,7135069444</td>\n",
       "      <td>NaN</td>\n",
       "    </tr>\n",
       "    <tr>\n",
       "      <th>3782</th>\n",
       "      <td>82988725</td>\n",
       "      <td>Xanxotea</td>\n",
       "      <td>NaN</td>\n",
       "      <td>La Place</td>\n",
       "      <td>64240.0</td>\n",
       "      <td>Isturits</td>\n",
       "      <td>France</td>\n",
       "      <td>fr</td>\n",
       "      <td>43.364834</td>\n",
       "      <td>-1.203580</td>\n",
       "      <td>http://www.xanxotea.com/</td>\n",
       "      <td>NaN</td>\n",
       "      <td>NaN</td>\n",
       "      <td>NaN</td>\n",
       "      <td>osm:museum</td>\n",
       "      <td>Musée ethnographique Xanxotea pour découvrir l...</td>\n",
       "      <td>44129,580775463</td>\n",
       "      <td>NaN</td>\n",
       "    </tr>\n",
       "    <tr>\n",
       "      <th>3783</th>\n",
       "      <td>277107550</td>\n",
       "      <td>Xylotheque - Kiosque Pedagogique</td>\n",
       "      <td>NaN</td>\n",
       "      <td>Impasse de la Haie Vive</td>\n",
       "      <td>45590.0</td>\n",
       "      <td>Saint-Cyr-en-Val</td>\n",
       "      <td>France</td>\n",
       "      <td>fr</td>\n",
       "      <td>47.825888</td>\n",
       "      <td>1.967795</td>\n",
       "      <td>NaN</td>\n",
       "      <td>NaN</td>\n",
       "      <td>NaN</td>\n",
       "      <td>NaN</td>\n",
       "      <td>osm:museum</td>\n",
       "      <td>NaN</td>\n",
       "      <td>43331,4758449074</td>\n",
       "      <td>NaN</td>\n",
       "    </tr>\n",
       "  </tbody>\n",
       "</table>\n",
       "</div>"
      ],
      "text/plain": [
       "          osm_id                                  name number  \\\n",
       "3779  1348524503                    Vivarium du Moulin    NaN   \n",
       "3780   577287841  Voyage au Temps des impressionnistes    NaN   \n",
       "3781   145062184              Wines and Spirits Museum    NaN   \n",
       "3782    82988725                              Xanxotea    NaN   \n",
       "3783   277107550      Xylotheque - Kiosque Pedagogique    NaN   \n",
       "\n",
       "                       street  postal_code              city country  \\\n",
       "3779           Rue Principale      68610.0  Thann-Guebwiller  France   \n",
       "3780              Rue de Léry      95430.0   Auvers-sur-Oise  France   \n",
       "3781       Corniche Bonaparte      83150.0            Bandol  France   \n",
       "3782                 La Place      64240.0          Isturits  France   \n",
       "3783  Impasse de la Haie Vive      45590.0  Saint-Cyr-en-Val  France   \n",
       "\n",
       "     country_code        lat       lon                   website email  phone  \\\n",
       "3779           fr  47.942258  7.149613                       NaN   NaN    NaN   \n",
       "3780           fr  49.072057  2.166167                       NaN   NaN    NaN   \n",
       "3781           fr  43.128031  5.749484                       NaN   NaN    NaN   \n",
       "3782           fr  43.364834 -1.203580  http://www.xanxotea.com/   NaN    NaN   \n",
       "3783           fr  47.825888  1.967795                       NaN   NaN    NaN   \n",
       "\n",
       "      fax        tags                                        description  \\\n",
       "3779  NaN  osm:museum                                                NaN   \n",
       "3780  NaN  osm:museum                                                NaN   \n",
       "3781  NaN  osm:museum                                                NaN   \n",
       "3782  NaN  osm:museum  Musée ethnographique Xanxotea pour découvrir l...   \n",
       "3783  NaN  osm:museum                                                NaN   \n",
       "\n",
       "            date_added wikidata  \n",
       "3779  40747,8717476852      NaN  \n",
       "3780  41141,7272222222      NaN  \n",
       "3781  42367,7135069444      NaN  \n",
       "3782   44129,580775463      NaN  \n",
       "3783  43331,4758449074      NaN  "
      ]
     },
     "execution_count": 38,
     "metadata": {},
     "output_type": "execute_result"
    }
   ],
   "source": [
    "Musées_france.tail()"
   ]
  },
  {
   "cell_type": "code",
   "execution_count": 39,
   "id": "6162fd95",
   "metadata": {},
   "outputs": [
    {
     "name": "stdout",
     "output_type": "stream",
     "text": [
      "Combien y-a-t-il de musées en France métropolitaine ?\n"
     ]
    },
    {
     "data": {
      "text/plain": [
       "3784"
      ]
     },
     "execution_count": 39,
     "metadata": {},
     "output_type": "execute_result"
    }
   ],
   "source": [
    "#Combien y-a-t-il de musées en France métropolitaine ?\n",
    "len(Musées_france)\n"
   ]
  },
  {
   "cell_type": "code",
   "execution_count": 45,
   "id": "c5ba583d",
   "metadata": {},
   "outputs": [
    {
     "name": "stdout",
     "output_type": "stream",
     "text": [
      "[Paris               175\n",
      "Lyon                 33\n",
      "Marseille            28\n",
      "Grenoble             22\n",
      "Bordeaux             20\n",
      "                   ... \n",
      "Jarnac                1\n",
      "Tréguier              1\n",
      "Pessac                1\n",
      "Belmont               1\n",
      "Saint-Cyr-en-Val      1\n",
      "Name: city, Length: 2295, dtype: int64]\n"
     ]
    }
   ],
   "source": [
    "#nbr de musées par ville\n",
    "nbr_musses_ville = [Musées_france.city.value_counts()]\n",
    "print(nbr_musses_ville)"
   ]
  },
  {
   "cell_type": "code",
   "execution_count": 67,
   "id": "607130c5",
   "metadata": {},
   "outputs": [
    {
     "data": {
      "text/plain": [
       "'Paris'"
      ]
     },
     "execution_count": 67,
     "metadata": {},
     "output_type": "execute_result"
    }
   ],
   "source": [
    "#Dans quelle(s) ville(s) y-a-t-il de plus de musées ?\n",
    "Musées_france.city.value_counts().idxmax()"
   ]
  },
  {
   "cell_type": "code",
   "execution_count": 77,
   "id": "3432854d",
   "metadata": {},
   "outputs": [
    {
     "data": {
      "text/plain": [
       "1.647930283224401"
      ]
     },
     "execution_count": 77,
     "metadata": {},
     "output_type": "execute_result"
    }
   ],
   "source": [
    "#Quel est le nombre moyen de musées par ville ?\n",
    "Musées_france.city.value_counts().mean()"
   ]
  },
  {
   "cell_type": "code",
   "execution_count": 78,
   "id": "15fb8082",
   "metadata": {},
   "outputs": [
    {
     "data": {
      "text/plain": [
       "1.0"
      ]
     },
     "execution_count": 78,
     "metadata": {},
     "output_type": "execute_result"
    }
   ],
   "source": [
    "#Quel est le nombre médian de musées par ville ?\n",
    "Musées_france.city.value_counts().median()"
   ]
  },
  {
   "cell_type": "code",
   "execution_count": 83,
   "id": "ca57f827",
   "metadata": {},
   "outputs": [
    {
     "data": {
      "text/plain": [
       "osm:museum                                                                    0.575093\n",
       "osm:museum;type:ecomusee                                                      0.102327\n",
       "osm:museum;type:musee technique et industriel                                 0.051296\n",
       "osm:museum;type:musee d'histoire                                              0.034902\n",
       "osm:museum;art:architecture                                                   0.031994\n",
       "                                                                                ...   \n",
       "osm:museum;gender:musee de couple;type:maison d'artiste                       0.000264\n",
       "osm:museum;art:prehistoire;type:musee d'histoire naturelle                    0.000264\n",
       "osm:museum;continent:art asiatique;type:centre d'art                          0.000264\n",
       "osm:museum;type:musee d'artiste;type:musee litteraire;gender:musee d'homme    0.000264\n",
       "osm:museum;gender:musee d'homme;type:musee de beaux-arts                      0.000264\n",
       "Name: tags, Length: 119, dtype: float64"
      ]
     },
     "execution_count": 83,
     "metadata": {},
     "output_type": "execute_result"
    }
   ],
   "source": [
    "#Comment sont répartis les musées par type (en pourcentage) ?\n",
    "Musées_france.tags.value_counts(normalize=True)"
   ]
  },
  {
   "cell_type": "code",
   "execution_count": 88,
   "id": "d7422b2d",
   "metadata": {},
   "outputs": [
    {
     "name": "stdout",
     "output_type": "stream",
     "text": [
      "Il y a 57 musées qui commence par Château\n"
     ]
    }
   ],
   "source": [
    "#Combien y-a-t-il de musées dont le nom commence par \"Château\" ?\n",
    "chateau = Musées_france['name']\n",
    "count = 0\n",
    "i = 0\n",
    "while i < len(Musées_france):\n",
    "        if chateau[i][0:7] == 'Château':\n",
    "            count += 1\n",
    "        i+=1\n",
    "print(\"Il y a {} musées qui commence par Château.\".format(count))        "
   ]
  },
  {
   "cell_type": "code",
   "execution_count": 112,
   "id": "5e6db33f",
   "metadata": {},
   "outputs": [
    {
     "name": "stdout",
     "output_type": "stream",
     "text": [
      "1636\n"
     ]
    }
   ],
   "source": [
    "#Pour combien de musées dispose-t-on de l'adresse du site web ? PB\n",
    "Musées_france[\"website\"]\n",
    "\n",
    "print(len(Musées_france)-Musées_france[\"website\"].isna().sum())\n",
    "\n",
    "#.isna()Detect missing values NaN"
   ]
  },
  {
   "cell_type": "code",
   "execution_count": 2,
   "id": "955804b1",
   "metadata": {},
   "outputs": [
    {
     "ename": "NameError",
     "evalue": "name 'Musées_france' is not defined",
     "output_type": "error",
     "traceback": [
      "\u001b[0;31m---------------------------------------------------------------------------\u001b[0m",
      "\u001b[0;31mNameError\u001b[0m                                 Traceback (most recent call last)",
      "Input \u001b[0;32mIn [2]\u001b[0m, in \u001b[0;36m<cell line: 5>\u001b[0;34m()\u001b[0m\n\u001b[1;32m      3\u001b[0m dep \u001b[38;5;241m=\u001b[39m []\n\u001b[1;32m      4\u001b[0m i\u001b[38;5;241m=\u001b[39m\u001b[38;5;241m0\u001b[39m\n\u001b[0;32m----> 5\u001b[0m \u001b[38;5;28;01mwhile\u001b[39;00m i \u001b[38;5;241m<\u001b[39m \u001b[38;5;28mlen\u001b[39m(\u001b[43mMusées_france\u001b[49m):\n\u001b[1;32m      6\u001b[0m     dep\u001b[38;5;241m.\u001b[39mappend(Musées_france[\u001b[38;5;124m\"\u001b[39m\u001b[38;5;124mpostal_code\u001b[39m\u001b[38;5;124m\"\u001b[39m][i]\u001b[38;5;241m.\u001b[39mastype(\u001b[38;5;28mstr\u001b[39m)[\u001b[38;5;241m0\u001b[39m:\u001b[38;5;241m2\u001b[39m])\n\u001b[1;32m      7\u001b[0m Musées_france[\u001b[38;5;124m\"\u001b[39m\u001b[38;5;124mnum_dep\u001b[39m\u001b[38;5;124m\"\u001b[39m]\u001b[38;5;241m=\u001b[39mdep\n",
      "\u001b[0;31mNameError\u001b[0m: name 'Musées_france' is not defined"
     ]
    }
   ],
   "source": [
    "#Quel département français possède le plus de musées sur son territoire ?\n",
    "#Etape 1 les départements\n",
    "dep = []\n",
    "i=0\n",
    "while i < len(Musées_france):\n",
    "    dep.append(Musées_france[\"postal_code\"][i].astype(str)[0:2])\n",
    "Musées_france[\"num_dep\"]=dep  "
   ]
  },
  {
   "cell_type": "code",
   "execution_count": null,
   "id": "1602ee4e",
   "metadata": {},
   "outputs": [],
   "source": [
    "#Etape 2 calcul\n",
    "print(Musées_france[\"num_dep\"].value_counts().idmax())"
   ]
  },
  {
   "cell_type": "code",
   "execution_count": null,
   "id": "ec2c7b31",
   "metadata": {},
   "outputs": [],
   "source": []
  },
  {
   "cell_type": "code",
   "execution_count": null,
   "id": "d504d909",
   "metadata": {},
   "outputs": [],
   "source": [
    "#Quel département français possède le moins de musées sur son territoire ?"
   ]
  },
  {
   "cell_type": "code",
   "execution_count": null,
   "id": "23f16898",
   "metadata": {},
   "outputs": [],
   "source": [
    "print(Musées_france[\"num_dep\"].value_counts().idxmin())"
   ]
  },
  {
   "cell_type": "code",
   "execution_count": null,
   "id": "1aa86ca6",
   "metadata": {},
   "outputs": [],
   "source": [
    "#Combien de musées ont \"Napoléon\" dans leur nom ?\n",
    "print(Musées_france[name].isin([Napoléon]).sum()))"
   ]
  },
  {
   "cell_type": "code",
   "execution_count": null,
   "id": "6690c98c",
   "metadata": {},
   "outputs": [],
   "source": []
  }
 ],
 "metadata": {
  "kernelspec": {
   "display_name": "Python 3 (ipykernel)",
   "language": "python",
   "name": "python3"
  },
  "language_info": {
   "codemirror_mode": {
    "name": "ipython",
    "version": 3
   },
   "file_extension": ".py",
   "mimetype": "text/x-python",
   "name": "python",
   "nbconvert_exporter": "python",
   "pygments_lexer": "ipython3",
   "version": "3.9.12"
  }
 },
 "nbformat": 4,
 "nbformat_minor": 5
}
